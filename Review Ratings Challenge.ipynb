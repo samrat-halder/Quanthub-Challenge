{
 "cells": [
  {
   "cell_type": "markdown",
   "metadata": {},
   "source": [
    "# Review Ratings Challenge"
   ]
  },
  {
   "cell_type": "markdown",
   "metadata": {},
   "source": [
    "**Task:** Import review_ratings_headers.txt file"
   ]
  },
  {
   "cell_type": "code",
   "execution_count": 2,
   "metadata": {},
   "outputs": [
    {
     "name": "stdout",
     "output_type": "stream",
     "text": [
      "   Attribute                                 Description\n",
      "0         1                              Unique user id \n",
      "1         2                 Average ratings on churches \n",
      "2         3                  Average ratings on resorts \n",
      "3         4                  Average ratings on beaches \n",
      "4         5                    Average ratings on parks \n",
      "5         6                 Average ratings on theatres \n",
      "6         7                  Average ratings on museums \n",
      "7         8                    Average ratings on malls \n",
      "8         9                      Average ratings on zoo \n",
      "9        10              Average ratings on restaurants \n",
      "10       11                Average ratings on pubs/bars \n",
      "11       12           Average ratings on local services \n",
      "12       13       Average ratings on burger/pizza shops \n",
      "13       14    Average ratings on hotels/other lodgings \n",
      "14       15               Average ratings on juice bars \n",
      "15       16            Average ratings on art galleries \n",
      "16       17              Average ratings on dance clubs \n",
      "17       18           Average ratings on swimming pools \n",
      "18       19                     Average ratings on gyms \n",
      "19       20                 Average ratings on bakeries \n",
      "20       21            Average ratings on beauty & spas \n",
      "21       22                    Average ratings on cafes \n",
      "22       23              Average ratings on view points \n",
      "23       24                Average ratings on monuments \n",
      "24       25                   Average ratings on gardens\n"
     ]
    }
   ],
   "source": [
    "import re\n",
    "import numpy as np\n",
    "import pandas as pd\n",
    "df_header = pd.DataFrame(columns = ['Attribute', 'Description'])\n",
    "with open('review_ratings_headers.txt', 'r') as f:\n",
    "    for line in f:\n",
    "        df_header = df_header.append(pd.DataFrame({'Attribute': [re.split(\"[:\\n]\", line)[0][9:]],\n",
    "                                 'Description':[re.split(\"[:\\n]\", line)[1]]}), ignore_index=True)\n",
    "        \n",
    "print(df_header)"
   ]
  },
  {
   "cell_type": "markdown",
   "metadata": {},
   "source": [
    "**Task:**\n",
    "1. Extract \"user\" and \"id\" from the first line and combine with an underscore.\n",
    "1. In each line after the first line, extract the word(s) after \"on\" in each line, removing special characters (e.g. /n, &, etc.). \n",
    "1. If there is more than one word, combine the words with a single underscore. \n",
    "1. Put the words into a list to use as headers for your dataset later."
   ]
  },
  {
   "cell_type": "code",
   "execution_count": 88,
   "metadata": {},
   "outputs": [
    {
     "name": "stdout",
     "output_type": "stream",
     "text": [
      "['user_id', 'churches', 'resorts', 'beaches', 'parks', 'theatres', 'museums', 'malls', 'zoo', 'restaurants', 'pubs_bars', 'local_services', 'burger_pizza_shops', 'hotels_other_lodgings', 'juice_bars', 'art_galleries', 'dance_clubs', 'swimming_pools', 'gyms', 'bakeries', 'beauty_spas', 'cafes', 'view_points', 'monuments', 'gardens']\n"
     ]
    }
   ],
   "source": [
    "header = []\n",
    "with open('review_ratings_headers.txt', 'r') as f:\n",
    "    line = f.readline()\n",
    "    header.append(re.sub(\"[/\\s]\", \"_\", re.split(\"[:\\n]\", line)[1].strip()[7:]))\n",
    "    for line in f:\n",
    "        header.append(re.sub(\"[/\\s]\", \"_\", re.split(\"[:\\n]\", line)[1].strip()[19:]))\n",
    "\n",
    "header_2 = []\n",
    "\n",
    "for string in header: \n",
    "    string = re.sub(\"&\",\"\",string)\n",
    "    string = re.sub(\"__\",\"_\",string)\n",
    "\n",
    "    header_2.append(string)\n",
    "\n",
    "print(header_2)"
   ]
  },
  {
   "cell_type": "code",
   "execution_count": 106,
   "metadata": {},
   "outputs": [
    {
     "data": {
      "text/plain": [
       "Index(['id', 'churches', 'resorts', 'beaches', 'parks', 'theatres', 'museums',\n",
       "       'malls', 'zoo', 'restaurants', 'pubs_bars', 'services', 'shops',\n",
       "       'lodgings', 'bars', 'galleries', 'clubs', 'pools', 'gyms', 'bakeries',\n",
       "       'spas', 'cafes', 'points', 'monuments', 'gardens'],\n",
       "      dtype='object')"
      ]
     },
     "execution_count": 106,
     "metadata": {},
     "output_type": "execute_result"
    }
   ],
   "source": [
    "data.columns"
   ]
  },
  {
   "cell_type": "code",
   "execution_count": 94,
   "metadata": {
    "collapsed": true
   },
   "outputs": [],
   "source": [
    "char_ = 0\n",
    "for h in header_2:\n",
    "    if \"_\" in h : char_+=1"
   ]
  },
  {
   "cell_type": "markdown",
   "metadata": {},
   "source": [
    "Question 1: How many headers are there with 2 or more words combined by an underscore?"
   ]
  },
  {
   "cell_type": "code",
   "execution_count": 95,
   "metadata": {},
   "outputs": [
    {
     "data": {
      "text/plain": [
       "11"
      ]
     },
     "execution_count": 95,
     "metadata": {},
     "output_type": "execute_result"
    }
   ],
   "source": [
    "char_"
   ]
  },
  {
   "cell_type": "code",
   "execution_count": 91,
   "metadata": {
    "collapsed": true
   },
   "outputs": [],
   "source": [
    "char_total = 0\n",
    "for h in header_2:\n",
    "    for c in h:\n",
    "        if c == '_': char_total +=1"
   ]
  },
  {
   "cell_type": "markdown",
   "metadata": {},
   "source": [
    "Question 2: How many underscores are there in all of the headers?"
   ]
  },
  {
   "cell_type": "code",
   "execution_count": 92,
   "metadata": {},
   "outputs": [
    {
     "data": {
      "text/plain": [
       "13"
      ]
     },
     "execution_count": 92,
     "metadata": {},
     "output_type": "execute_result"
    }
   ],
   "source": [
    "char_total"
   ]
  },
  {
   "cell_type": "markdown",
   "metadata": {},
   "source": [
    "**Task:** Read in review_ratings.csv, set names as the cleaned headers list from above, skip the first row, and do not include an index column"
   ]
  },
  {
   "cell_type": "code",
   "execution_count": 120,
   "metadata": {},
   "outputs": [
    {
     "data": {
      "text/html": [
       "<div>\n",
       "<style>\n",
       "    .dataframe thead tr:only-child th {\n",
       "        text-align: right;\n",
       "    }\n",
       "\n",
       "    .dataframe thead th {\n",
       "        text-align: left;\n",
       "    }\n",
       "\n",
       "    .dataframe tbody tr th {\n",
       "        vertical-align: top;\n",
       "    }\n",
       "</style>\n",
       "<table border=\"1\" class=\"dataframe\">\n",
       "  <thead>\n",
       "    <tr style=\"text-align: right;\">\n",
       "      <th></th>\n",
       "      <th>user_id</th>\n",
       "      <th>churches</th>\n",
       "      <th>resorts</th>\n",
       "      <th>beaches</th>\n",
       "      <th>parks</th>\n",
       "      <th>theatres</th>\n",
       "      <th>museums</th>\n",
       "      <th>malls</th>\n",
       "      <th>zoo</th>\n",
       "      <th>restaurants</th>\n",
       "      <th>...</th>\n",
       "      <th>art_galleries</th>\n",
       "      <th>dance_clubs</th>\n",
       "      <th>swimming_pools</th>\n",
       "      <th>gyms</th>\n",
       "      <th>bakeries</th>\n",
       "      <th>beauty_spas</th>\n",
       "      <th>cafes</th>\n",
       "      <th>view_points</th>\n",
       "      <th>monuments</th>\n",
       "      <th>gardens</th>\n",
       "    </tr>\n",
       "  </thead>\n",
       "  <tbody>\n",
       "    <tr>\n",
       "      <th>0</th>\n",
       "      <td>User 3343</td>\n",
       "      <td>1.49</td>\n",
       "      <td>2.75</td>\n",
       "      <td>2.88</td>\n",
       "      <td>2.91</td>\n",
       "      <td>5.00</td>\n",
       "      <td>5.00</td>\n",
       "      <td>1.56</td>\n",
       "      <td>1.53</td>\n",
       "      <td>1.52</td>\n",
       "      <td>...</td>\n",
       "      <td>0.77</td>\n",
       "      <td>0.78</td>\n",
       "      <td>0.80</td>\n",
       "      <td>1.16</td>\n",
       "      <td>0.76</td>\n",
       "      <td>0.74</td>\n",
       "      <td>0.73</td>\n",
       "      <td>0.74</td>\n",
       "      <td>0.77</td>\n",
       "      <td>0.80</td>\n",
       "    </tr>\n",
       "    <tr>\n",
       "      <th>1</th>\n",
       "      <td>User 5248</td>\n",
       "      <td>0.86</td>\n",
       "      <td>0.89</td>\n",
       "      <td>1.66</td>\n",
       "      <td>1.63</td>\n",
       "      <td>1.63</td>\n",
       "      <td>1.63</td>\n",
       "      <td>5.00</td>\n",
       "      <td>1.67</td>\n",
       "      <td>2.43</td>\n",
       "      <td>...</td>\n",
       "      <td>5.0</td>\n",
       "      <td>0.66</td>\n",
       "      <td>0.65</td>\n",
       "      <td>0.64</td>\n",
       "      <td>0.74</td>\n",
       "      <td>0.68</td>\n",
       "      <td>0.86</td>\n",
       "      <td>0.85</td>\n",
       "      <td>0.84</td>\n",
       "      <td>0.84</td>\n",
       "    </tr>\n",
       "  </tbody>\n",
       "</table>\n",
       "<p>2 rows × 25 columns</p>\n",
       "</div>"
      ],
      "text/plain": [
       "     user_id  churches  resorts  beaches  parks  theatres  museums  malls  \\\n",
       "0  User 3343      1.49     2.75     2.88   2.91      5.00     5.00   1.56   \n",
       "1  User 5248      0.86     0.89     1.66   1.63      1.63     1.63   5.00   \n",
       "\n",
       "    zoo  restaurants   ...     art_galleries  dance_clubs  swimming_pools  \\\n",
       "0  1.53         1.52   ...              0.77         0.78            0.80   \n",
       "1  1.67         2.43   ...               5.0         0.66            0.65   \n",
       "\n",
       "   gyms  bakeries beauty_spas  cafes  view_points  monuments  gardens  \n",
       "0  1.16      0.76        0.74   0.73         0.74       0.77     0.80  \n",
       "1  0.64      0.74        0.68   0.86         0.85       0.84     0.84  \n",
       "\n",
       "[2 rows x 25 columns]"
      ]
     },
     "execution_count": 120,
     "metadata": {},
     "output_type": "execute_result"
    }
   ],
   "source": [
    "data =pd.read_csv('review_ratings.csv', skiprows= 1, header=None)\n",
    "data.columns = header_2\n",
    "data[0:2]"
   ]
  },
  {
   "cell_type": "markdown",
   "metadata": {},
   "source": [
    "Question 3: How many rows are in the ratings dataset?"
   ]
  },
  {
   "cell_type": "code",
   "execution_count": 116,
   "metadata": {},
   "outputs": [
    {
     "data": {
      "text/plain": [
       "4624"
      ]
     },
     "execution_count": 116,
     "metadata": {},
     "output_type": "execute_result"
    }
   ],
   "source": [
    "data.shape[0]"
   ]
  },
  {
   "cell_type": "markdown",
   "metadata": {},
   "source": [
    "**Task:** Import review_ratings_with_headers.csv"
   ]
  },
  {
   "cell_type": "code",
   "execution_count": 121,
   "metadata": {
    "collapsed": true
   },
   "outputs": [],
   "source": [
    "data_2 = pd.read_csv('review_ratings.csv')"
   ]
  },
  {
   "cell_type": "markdown",
   "metadata": {},
   "source": [
    "**Task:** Explore data types in the dataset"
   ]
  },
  {
   "cell_type": "code",
   "execution_count": 125,
   "metadata": {},
   "outputs": [
    {
     "data": {
      "text/plain": [
       "user_id                   object\n",
       "churches                 float64\n",
       "resorts                  float64\n",
       "beaches                  float64\n",
       "parks                    float64\n",
       "theatres                 float64\n",
       "museums                  float64\n",
       "malls                    float64\n",
       "zoo                      float64\n",
       "restaurants              float64\n",
       "pubs_bars                float64\n",
       "local_services           float64\n",
       "burger_pizza_shops       float64\n",
       "hotels_other_lodgings    float64\n",
       "juice_bars               float64\n",
       "art_galleries             object\n",
       "dance_clubs              float64\n",
       "swimming_pools           float64\n",
       "gyms                     float64\n",
       "bakeries                 float64\n",
       "beauty_spas              float64\n",
       "cafes                    float64\n",
       "view_points              float64\n",
       "monuments                float64\n",
       "gardens                  float64\n",
       "dtype: object"
      ]
     },
     "execution_count": 125,
     "metadata": {},
     "output_type": "execute_result"
    }
   ],
   "source": [
    "data.dtypes"
   ]
  },
  {
   "cell_type": "markdown",
   "metadata": {},
   "source": [
    "Question 4: What data type is local_services?"
   ]
  },
  {
   "cell_type": "markdown",
   "metadata": {},
   "source": [
    "float"
   ]
  },
  {
   "cell_type": "markdown",
   "metadata": {},
   "source": [
    "**Task:** Find special characters that are in one of the columns, replace with 0, and convert to continuous/float type"
   ]
  },
  {
   "cell_type": "code",
   "execution_count": 133,
   "metadata": {},
   "outputs": [
    {
     "name": "stdout",
     "output_type": "stream",
     "text": [
      "qh\n"
     ]
    }
   ],
   "source": [
    "art_galleries_float = []\n",
    "for a in list(data.art_galleries):\n",
    "    try:\n",
    "        a = float(a)\n",
    "    except Exception as e:\n",
    "        print (a)\n",
    "        a = 0\n",
    "        pass\n",
    "    art_galleries_float.append(a)"
   ]
  },
  {
   "cell_type": "code",
   "execution_count": 136,
   "metadata": {},
   "outputs": [
    {
     "data": {
      "text/plain": [
       "user_id                   object\n",
       "churches                 float64\n",
       "resorts                  float64\n",
       "beaches                  float64\n",
       "parks                    float64\n",
       "theatres                 float64\n",
       "museums                  float64\n",
       "malls                    float64\n",
       "zoo                      float64\n",
       "restaurants              float64\n",
       "pubs_bars                float64\n",
       "local_services           float64\n",
       "burger_pizza_shops       float64\n",
       "hotels_other_lodgings    float64\n",
       "juice_bars               float64\n",
       "art_galleries            float64\n",
       "dance_clubs              float64\n",
       "swimming_pools           float64\n",
       "gyms                     float64\n",
       "bakeries                 float64\n",
       "beauty_spas              float64\n",
       "cafes                    float64\n",
       "view_points              float64\n",
       "monuments                float64\n",
       "gardens                  float64\n",
       "dtype: object"
      ]
     },
     "execution_count": 136,
     "metadata": {},
     "output_type": "execute_result"
    }
   ],
   "source": [
    "data.art_galleries = art_galleries_float\n",
    "data.dtypes"
   ]
  },
  {
   "cell_type": "markdown",
   "metadata": {},
   "source": [
    "Question 5: What was the string that contained the special characters?"
   ]
  },
  {
   "cell_type": "markdown",
   "metadata": {},
   "source": [
    "'qh'"
   ]
  },
  {
   "cell_type": "markdown",
   "metadata": {},
   "source": [
    "Question 6: What is the mean of the variable now that it has been converted to type continuous/float?"
   ]
  },
  {
   "cell_type": "code",
   "execution_count": 137,
   "metadata": {},
   "outputs": [
    {
     "data": {
      "text/plain": [
       "2.203406141868526"
      ]
     },
     "execution_count": 137,
     "metadata": {},
     "output_type": "execute_result"
    }
   ],
   "source": [
    "data.art_galleries.mean()"
   ]
  },
  {
   "cell_type": "markdown",
   "metadata": {},
   "source": [
    "**Task:** Fill missing values with 0 and run summary statistics on the dataset"
   ]
  },
  {
   "cell_type": "code",
   "execution_count": 145,
   "metadata": {},
   "outputs": [
    {
     "data": {
      "text/html": [
       "<div>\n",
       "<style>\n",
       "    .dataframe thead tr:only-child th {\n",
       "        text-align: right;\n",
       "    }\n",
       "\n",
       "    .dataframe thead th {\n",
       "        text-align: left;\n",
       "    }\n",
       "\n",
       "    .dataframe tbody tr th {\n",
       "        vertical-align: top;\n",
       "    }\n",
       "</style>\n",
       "<table border=\"1\" class=\"dataframe\">\n",
       "  <thead>\n",
       "    <tr style=\"text-align: right;\">\n",
       "      <th></th>\n",
       "      <th>churches</th>\n",
       "      <th>resorts</th>\n",
       "      <th>beaches</th>\n",
       "      <th>parks</th>\n",
       "      <th>theatres</th>\n",
       "      <th>museums</th>\n",
       "      <th>malls</th>\n",
       "      <th>zoo</th>\n",
       "      <th>restaurants</th>\n",
       "      <th>pubs_bars</th>\n",
       "      <th>...</th>\n",
       "      <th>art_galleries</th>\n",
       "      <th>dance_clubs</th>\n",
       "      <th>swimming_pools</th>\n",
       "      <th>gyms</th>\n",
       "      <th>bakeries</th>\n",
       "      <th>beauty_spas</th>\n",
       "      <th>cafes</th>\n",
       "      <th>view_points</th>\n",
       "      <th>monuments</th>\n",
       "      <th>gardens</th>\n",
       "    </tr>\n",
       "  </thead>\n",
       "  <tbody>\n",
       "    <tr>\n",
       "      <th>count</th>\n",
       "      <td>4624.000000</td>\n",
       "      <td>4624.000000</td>\n",
       "      <td>4624.000000</td>\n",
       "      <td>4624.000000</td>\n",
       "      <td>4624.000000</td>\n",
       "      <td>4624.000000</td>\n",
       "      <td>4624.000000</td>\n",
       "      <td>4624.000000</td>\n",
       "      <td>4624.000000</td>\n",
       "      <td>4624.000000</td>\n",
       "      <td>...</td>\n",
       "      <td>4624.000000</td>\n",
       "      <td>4624.000000</td>\n",
       "      <td>4624.000000</td>\n",
       "      <td>4624.000000</td>\n",
       "      <td>4624.000000</td>\n",
       "      <td>4624.000000</td>\n",
       "      <td>4624.000000</td>\n",
       "      <td>4624.000000</td>\n",
       "      <td>4624.000000</td>\n",
       "      <td>4624.000000</td>\n",
       "    </tr>\n",
       "    <tr>\n",
       "      <th>mean</th>\n",
       "      <td>1.455822</td>\n",
       "      <td>2.317331</td>\n",
       "      <td>2.482007</td>\n",
       "      <td>2.796265</td>\n",
       "      <td>2.953977</td>\n",
       "      <td>2.893343</td>\n",
       "      <td>3.354189</td>\n",
       "      <td>2.548054</td>\n",
       "      <td>3.144027</td>\n",
       "      <td>2.841808</td>\n",
       "      <td>...</td>\n",
       "      <td>2.203406</td>\n",
       "      <td>1.194271</td>\n",
       "      <td>0.954007</td>\n",
       "      <td>0.825424</td>\n",
       "      <td>0.960783</td>\n",
       "      <td>0.993854</td>\n",
       "      <td>0.973227</td>\n",
       "      <td>1.758545</td>\n",
       "      <td>1.535264</td>\n",
       "      <td>1.561068</td>\n",
       "    </tr>\n",
       "    <tr>\n",
       "      <th>std</th>\n",
       "      <td>0.819186</td>\n",
       "      <td>1.418414</td>\n",
       "      <td>1.242288</td>\n",
       "      <td>1.313560</td>\n",
       "      <td>1.338313</td>\n",
       "      <td>1.281503</td>\n",
       "      <td>1.413699</td>\n",
       "      <td>1.112429</td>\n",
       "      <td>1.357523</td>\n",
       "      <td>1.309914</td>\n",
       "      <td>...</td>\n",
       "      <td>1.719475</td>\n",
       "      <td>1.108272</td>\n",
       "      <td>0.980365</td>\n",
       "      <td>0.953209</td>\n",
       "      <td>1.186662</td>\n",
       "      <td>1.188229</td>\n",
       "      <td>0.931104</td>\n",
       "      <td>1.598310</td>\n",
       "      <td>1.314480</td>\n",
       "      <td>1.164068</td>\n",
       "    </tr>\n",
       "    <tr>\n",
       "      <th>min</th>\n",
       "      <td>0.000000</td>\n",
       "      <td>0.000000</td>\n",
       "      <td>0.000000</td>\n",
       "      <td>0.830000</td>\n",
       "      <td>1.120000</td>\n",
       "      <td>1.110000</td>\n",
       "      <td>1.120000</td>\n",
       "      <td>0.860000</td>\n",
       "      <td>0.840000</td>\n",
       "      <td>0.810000</td>\n",
       "      <td>...</td>\n",
       "      <td>0.000000</td>\n",
       "      <td>0.000000</td>\n",
       "      <td>0.000000</td>\n",
       "      <td>0.000000</td>\n",
       "      <td>0.000000</td>\n",
       "      <td>0.000000</td>\n",
       "      <td>0.000000</td>\n",
       "      <td>0.000000</td>\n",
       "      <td>0.000000</td>\n",
       "      <td>0.000000</td>\n",
       "    </tr>\n",
       "    <tr>\n",
       "      <th>25%</th>\n",
       "      <td>0.920000</td>\n",
       "      <td>1.360000</td>\n",
       "      <td>1.540000</td>\n",
       "      <td>1.720000</td>\n",
       "      <td>1.770000</td>\n",
       "      <td>1.780000</td>\n",
       "      <td>1.930000</td>\n",
       "      <td>1.620000</td>\n",
       "      <td>1.800000</td>\n",
       "      <td>1.640000</td>\n",
       "      <td>...</td>\n",
       "      <td>0.860000</td>\n",
       "      <td>0.690000</td>\n",
       "      <td>0.580000</td>\n",
       "      <td>0.530000</td>\n",
       "      <td>0.520000</td>\n",
       "      <td>0.540000</td>\n",
       "      <td>0.570000</td>\n",
       "      <td>0.750000</td>\n",
       "      <td>0.800000</td>\n",
       "      <td>0.890000</td>\n",
       "    </tr>\n",
       "    <tr>\n",
       "      <th>50%</th>\n",
       "      <td>1.330000</td>\n",
       "      <td>1.890000</td>\n",
       "      <td>2.060000</td>\n",
       "      <td>2.450000</td>\n",
       "      <td>2.660000</td>\n",
       "      <td>2.685000</td>\n",
       "      <td>3.230000</td>\n",
       "      <td>2.190000</td>\n",
       "      <td>2.820000</td>\n",
       "      <td>2.690000</td>\n",
       "      <td>...</td>\n",
       "      <td>1.320000</td>\n",
       "      <td>0.800000</td>\n",
       "      <td>0.740000</td>\n",
       "      <td>0.680000</td>\n",
       "      <td>0.690000</td>\n",
       "      <td>0.690000</td>\n",
       "      <td>0.770000</td>\n",
       "      <td>1.040000</td>\n",
       "      <td>1.070000</td>\n",
       "      <td>1.290000</td>\n",
       "    </tr>\n",
       "    <tr>\n",
       "      <th>75%</th>\n",
       "      <td>1.810000</td>\n",
       "      <td>2.670000</td>\n",
       "      <td>2.730000</td>\n",
       "      <td>4.110000</td>\n",
       "      <td>4.310000</td>\n",
       "      <td>3.830000</td>\n",
       "      <td>5.000000</td>\n",
       "      <td>3.200000</td>\n",
       "      <td>5.000000</td>\n",
       "      <td>3.560000</td>\n",
       "      <td>...</td>\n",
       "      <td>4.690000</td>\n",
       "      <td>1.160000</td>\n",
       "      <td>0.920000</td>\n",
       "      <td>0.840000</td>\n",
       "      <td>0.860000</td>\n",
       "      <td>0.860000</td>\n",
       "      <td>1.010000</td>\n",
       "      <td>2.080000</td>\n",
       "      <td>1.560000</td>\n",
       "      <td>1.650000</td>\n",
       "    </tr>\n",
       "    <tr>\n",
       "      <th>max</th>\n",
       "      <td>5.000000</td>\n",
       "      <td>5.000000</td>\n",
       "      <td>5.000000</td>\n",
       "      <td>5.000000</td>\n",
       "      <td>5.000000</td>\n",
       "      <td>5.000000</td>\n",
       "      <td>5.000000</td>\n",
       "      <td>5.000000</td>\n",
       "      <td>5.000000</td>\n",
       "      <td>5.000000</td>\n",
       "      <td>...</td>\n",
       "      <td>5.000000</td>\n",
       "      <td>5.000000</td>\n",
       "      <td>5.000000</td>\n",
       "      <td>5.000000</td>\n",
       "      <td>5.000000</td>\n",
       "      <td>5.000000</td>\n",
       "      <td>5.000000</td>\n",
       "      <td>5.000000</td>\n",
       "      <td>5.000000</td>\n",
       "      <td>5.000000</td>\n",
       "    </tr>\n",
       "  </tbody>\n",
       "</table>\n",
       "<p>8 rows × 24 columns</p>\n",
       "</div>"
      ],
      "text/plain": [
       "          churches      resorts      beaches        parks     theatres  \\\n",
       "count  4624.000000  4624.000000  4624.000000  4624.000000  4624.000000   \n",
       "mean      1.455822     2.317331     2.482007     2.796265     2.953977   \n",
       "std       0.819186     1.418414     1.242288     1.313560     1.338313   \n",
       "min       0.000000     0.000000     0.000000     0.830000     1.120000   \n",
       "25%       0.920000     1.360000     1.540000     1.720000     1.770000   \n",
       "50%       1.330000     1.890000     2.060000     2.450000     2.660000   \n",
       "75%       1.810000     2.670000     2.730000     4.110000     4.310000   \n",
       "max       5.000000     5.000000     5.000000     5.000000     5.000000   \n",
       "\n",
       "           museums        malls          zoo  restaurants    pubs_bars  \\\n",
       "count  4624.000000  4624.000000  4624.000000  4624.000000  4624.000000   \n",
       "mean      2.893343     3.354189     2.548054     3.144027     2.841808   \n",
       "std       1.281503     1.413699     1.112429     1.357523     1.309914   \n",
       "min       1.110000     1.120000     0.860000     0.840000     0.810000   \n",
       "25%       1.780000     1.930000     1.620000     1.800000     1.640000   \n",
       "50%       2.685000     3.230000     2.190000     2.820000     2.690000   \n",
       "75%       3.830000     5.000000     3.200000     5.000000     3.560000   \n",
       "max       5.000000     5.000000     5.000000     5.000000     5.000000   \n",
       "\n",
       "          ...       art_galleries  dance_clubs  swimming_pools         gyms  \\\n",
       "count     ...         4624.000000  4624.000000     4624.000000  4624.000000   \n",
       "mean      ...            2.203406     1.194271        0.954007     0.825424   \n",
       "std       ...            1.719475     1.108272        0.980365     0.953209   \n",
       "min       ...            0.000000     0.000000        0.000000     0.000000   \n",
       "25%       ...            0.860000     0.690000        0.580000     0.530000   \n",
       "50%       ...            1.320000     0.800000        0.740000     0.680000   \n",
       "75%       ...            4.690000     1.160000        0.920000     0.840000   \n",
       "max       ...            5.000000     5.000000        5.000000     5.000000   \n",
       "\n",
       "          bakeries  beauty_spas        cafes  view_points    monuments  \\\n",
       "count  4624.000000  4624.000000  4624.000000  4624.000000  4624.000000   \n",
       "mean      0.960783     0.993854     0.973227     1.758545     1.535264   \n",
       "std       1.186662     1.188229     0.931104     1.598310     1.314480   \n",
       "min       0.000000     0.000000     0.000000     0.000000     0.000000   \n",
       "25%       0.520000     0.540000     0.570000     0.750000     0.800000   \n",
       "50%       0.690000     0.690000     0.770000     1.040000     1.070000   \n",
       "75%       0.860000     0.860000     1.010000     2.080000     1.560000   \n",
       "max       5.000000     5.000000     5.000000     5.000000     5.000000   \n",
       "\n",
       "           gardens  \n",
       "count  4624.000000  \n",
       "mean      1.561068  \n",
       "std       1.164068  \n",
       "min       0.000000  \n",
       "25%       0.890000  \n",
       "50%       1.290000  \n",
       "75%       1.650000  \n",
       "max       5.000000  \n",
       "\n",
       "[8 rows x 24 columns]"
      ]
     },
     "execution_count": 145,
     "metadata": {},
     "output_type": "execute_result"
    }
   ],
   "source": [
    "data = data.fillna(0)\n",
    "data.isnull().values.any()\n",
    "data.describe()"
   ]
  },
  {
   "cell_type": "markdown",
   "metadata": {},
   "source": [
    "Question 7: What is the IQR of ratings for resorts?"
   ]
  },
  {
   "cell_type": "code",
   "execution_count": 146,
   "metadata": {},
   "outputs": [
    {
     "data": {
      "text/plain": [
       "1.3099999999999998"
      ]
     },
     "execution_count": 146,
     "metadata": {},
     "output_type": "execute_result"
    }
   ],
   "source": [
    "2.67-1.36"
   ]
  },
  {
   "cell_type": "markdown",
   "metadata": {},
   "source": [
    "**Task:** Import review_ratings_processed.csv"
   ]
  },
  {
   "cell_type": "code",
   "execution_count": 3,
   "metadata": {},
   "outputs": [],
   "source": [
    "data_processed = pd.read_csv('review_ratings_processed.csv')"
   ]
  },
  {
   "cell_type": "code",
   "execution_count": 4,
   "metadata": {},
   "outputs": [
    {
     "data": {
      "text/plain": [
       "(4624, 25)"
      ]
     },
     "execution_count": 4,
     "metadata": {},
     "output_type": "execute_result"
    }
   ],
   "source": [
    "data_processed.shape"
   ]
  },
  {
   "cell_type": "markdown",
   "metadata": {},
   "source": [
    "**Task:** Find the variables that are most correlated with each other"
   ]
  },
  {
   "cell_type": "code",
   "execution_count": 5,
   "metadata": {},
   "outputs": [
    {
     "name": "stdout",
     "output_type": "stream",
     "text": [
      "theatres               parks             0.628782\n",
      "pubs_bars              restaurants       0.567785\n",
      "                       zoo               0.554357\n",
      "zoo                    restaurants       0.545238\n",
      "swimming_pools         gyms              0.521543\n",
      "hotels_other_lodgings  juice_bars        0.515170\n",
      "gardens                churches          0.499185\n",
      "museums                theatres          0.484519\n",
      "monuments              view_points       0.470440\n",
      "pubs_bars              local_services    0.466849\n",
      "dtype: float64\n"
     ]
    }
   ],
   "source": [
    "print(data_processed.corr().abs().unstack().sort_values(ascending=False).drop_duplicates()[1:11])"
   ]
  },
  {
   "cell_type": "markdown",
   "metadata": {},
   "source": [
    "Question 8: Which variables are included in the **top 10** **most** correlated (based on absolute value)? "
   ]
  },
  {
   "cell_type": "markdown",
   "metadata": {},
   "source": [
    "(zoo, restaurants );(hotels_other_lodgings, juice_bars); (theatres, parks)"
   ]
  },
  {
   "cell_type": "markdown",
   "metadata": {},
   "source": [
    "**Task:** Group each variable into 10 equal-width bins and calculate the **mean malls** rating for each bin"
   ]
  },
  {
   "cell_type": "code",
   "execution_count": 6,
   "metadata": {},
   "outputs": [
    {
     "name": "stdout",
     "output_type": "stream",
     "text": [
      "juice_bars\n",
      "(0.76, 1.184]     3.033536\n",
      "(1.184, 1.608]    3.514370\n",
      "(1.608, 2.032]    3.607063\n",
      "(2.032, 2.456]    3.015440\n",
      "(2.456, 2.88]     3.269082\n",
      "(2.88, 3.304]     3.588889\n",
      "(3.304, 3.728]    4.161667\n",
      "(3.728, 4.152]    4.714019\n",
      "(4.152, 4.576]    3.186316\n",
      "(4.576, 5.0]      3.446805\n",
      "Name: malls, dtype: float64\n"
     ]
    }
   ],
   "source": [
    "data_processed[0:4]\n",
    "dg = data_processed.groupby(pd.cut(data_processed['juice_bars'], \n",
    "                              bins = np.linspace(data_processed['juice_bars'].min(),\n",
    "                                                data_processed['juice_bars'].max(), 11) ))['malls'].mean()\n",
    "print (dg)"
   ]
  },
  {
   "cell_type": "code",
   "execution_count": 7,
   "metadata": {},
   "outputs": [
    {
     "data": {
      "text/plain": [
       "<matplotlib.axes._subplots.AxesSubplot at 0x109552d68>"
      ]
     },
     "execution_count": 7,
     "metadata": {},
     "output_type": "execute_result"
    },
    {
     "data": {
      "image/png": "[encoded data removed]",
      "text/plain": [
       "<Figure size 432x288 with 1 Axes>"
      ]
     },
     "metadata": {},
     "output_type": "display_data"
    }
   ],
   "source": [
    "% matplotlib inline\n",
    "from matplotlib import pyplot as plt\n",
    "\n",
    "dg.plot.line()"
   ]
  },
  {
   "cell_type": "code",
   "execution_count": 8,
   "metadata": {
    "collapsed": true
   },
   "outputs": [],
   "source": [
    "from sklearn.model_selection import train_test_split\n",
    "from sklearn.preprocessing import StandardScaler\n",
    "from sklearn.ensemble import RandomForestRegressor\n",
    "from sklearn import metrics\n",
    "from sklearn.tree import export_graphviz\n",
    "import pydot"
   ]
  },
  {
   "cell_type": "markdown",
   "metadata": {},
   "source": [
    "Question 9: Which chart below matches mean **mall** rating by **juice_bar** bins?"
   ]
  },
  {
   "cell_type": "markdown",
   "metadata": {},
   "source": [
    "None of the above"
   ]
  },
  {
   "cell_type": "markdown",
   "metadata": {},
   "source": [
    "**Task:** Split dataset into features that include all variables except **juice_bars** and user_id"
   ]
  },
  {
   "cell_type": "code",
   "execution_count": 9,
   "metadata": {},
   "outputs": [
    {
     "data": {
      "text/html": [
       "<div>\n",
       "<style>\n",
       "    .dataframe thead tr:only-child th {\n",
       "        text-align: right;\n",
       "    }\n",
       "\n",
       "    .dataframe thead th {\n",
       "        text-align: left;\n",
       "    }\n",
       "\n",
       "    .dataframe tbody tr th {\n",
       "        vertical-align: top;\n",
       "    }\n",
       "</style>\n",
       "<table border=\"1\" class=\"dataframe\">\n",
       "  <thead>\n",
       "    <tr style=\"text-align: right;\">\n",
       "      <th></th>\n",
       "      <th>churches</th>\n",
       "      <th>resorts</th>\n",
       "      <th>beaches</th>\n",
       "      <th>parks</th>\n",
       "      <th>theatres</th>\n",
       "      <th>museums</th>\n",
       "      <th>malls</th>\n",
       "      <th>zoo</th>\n",
       "      <th>restaurants</th>\n",
       "      <th>pubs_bars</th>\n",
       "      <th>...</th>\n",
       "      <th>art_galleries</th>\n",
       "      <th>dance_clubs</th>\n",
       "      <th>swimming_pools</th>\n",
       "      <th>gyms</th>\n",
       "      <th>bakeries</th>\n",
       "      <th>beauty_spas</th>\n",
       "      <th>cafes</th>\n",
       "      <th>view_points</th>\n",
       "      <th>monuments</th>\n",
       "      <th>gardens</th>\n",
       "    </tr>\n",
       "    <tr>\n",
       "      <th>user_id</th>\n",
       "      <th></th>\n",
       "      <th></th>\n",
       "      <th></th>\n",
       "      <th></th>\n",
       "      <th></th>\n",
       "      <th></th>\n",
       "      <th></th>\n",
       "      <th></th>\n",
       "      <th></th>\n",
       "      <th></th>\n",
       "      <th></th>\n",
       "      <th></th>\n",
       "      <th></th>\n",
       "      <th></th>\n",
       "      <th></th>\n",
       "      <th></th>\n",
       "      <th></th>\n",
       "      <th></th>\n",
       "      <th></th>\n",
       "      <th></th>\n",
       "      <th></th>\n",
       "    </tr>\n",
       "  </thead>\n",
       "  <tbody>\n",
       "    <tr>\n",
       "      <th>User 3343</th>\n",
       "      <td>1.49</td>\n",
       "      <td>2.75</td>\n",
       "      <td>2.88</td>\n",
       "      <td>2.91</td>\n",
       "      <td>5.00</td>\n",
       "      <td>5.00</td>\n",
       "      <td>1.56</td>\n",
       "      <td>1.53</td>\n",
       "      <td>1.52</td>\n",
       "      <td>1.53</td>\n",
       "      <td>...</td>\n",
       "      <td>0.77</td>\n",
       "      <td>0.78</td>\n",
       "      <td>0.80</td>\n",
       "      <td>1.16</td>\n",
       "      <td>0.76</td>\n",
       "      <td>0.74</td>\n",
       "      <td>0.73</td>\n",
       "      <td>0.74</td>\n",
       "      <td>0.77</td>\n",
       "      <td>0.80</td>\n",
       "    </tr>\n",
       "    <tr>\n",
       "      <th>User 5248</th>\n",
       "      <td>0.86</td>\n",
       "      <td>0.89</td>\n",
       "      <td>1.66</td>\n",
       "      <td>1.63</td>\n",
       "      <td>1.63</td>\n",
       "      <td>1.63</td>\n",
       "      <td>5.00</td>\n",
       "      <td>1.67</td>\n",
       "      <td>2.43</td>\n",
       "      <td>2.99</td>\n",
       "      <td>...</td>\n",
       "      <td>5.00</td>\n",
       "      <td>0.66</td>\n",
       "      <td>0.65</td>\n",
       "      <td>0.64</td>\n",
       "      <td>0.74</td>\n",
       "      <td>0.68</td>\n",
       "      <td>0.86</td>\n",
       "      <td>0.85</td>\n",
       "      <td>0.84</td>\n",
       "      <td>0.84</td>\n",
       "    </tr>\n",
       "    <tr>\n",
       "      <th>User 3364</th>\n",
       "      <td>0.73</td>\n",
       "      <td>0.76</td>\n",
       "      <td>0.80</td>\n",
       "      <td>2.06</td>\n",
       "      <td>2.92</td>\n",
       "      <td>5.00</td>\n",
       "      <td>5.00</td>\n",
       "      <td>1.62</td>\n",
       "      <td>5.00</td>\n",
       "      <td>1.56</td>\n",
       "      <td>...</td>\n",
       "      <td>1.83</td>\n",
       "      <td>0.75</td>\n",
       "      <td>0.74</td>\n",
       "      <td>0.74</td>\n",
       "      <td>0.77</td>\n",
       "      <td>1.08</td>\n",
       "      <td>0.73</td>\n",
       "      <td>0.72</td>\n",
       "      <td>0.71</td>\n",
       "      <td>0.71</td>\n",
       "    </tr>\n",
       "    <tr>\n",
       "      <th>User 2874</th>\n",
       "      <td>0.58</td>\n",
       "      <td>5.00</td>\n",
       "      <td>1.33</td>\n",
       "      <td>1.32</td>\n",
       "      <td>1.34</td>\n",
       "      <td>1.36</td>\n",
       "      <td>5.00</td>\n",
       "      <td>5.00</td>\n",
       "      <td>5.00</td>\n",
       "      <td>2.88</td>\n",
       "      <td>...</td>\n",
       "      <td>0.79</td>\n",
       "      <td>0.78</td>\n",
       "      <td>0.80</td>\n",
       "      <td>0.81</td>\n",
       "      <td>1.02</td>\n",
       "      <td>0.57</td>\n",
       "      <td>0.52</td>\n",
       "      <td>0.51</td>\n",
       "      <td>0.54</td>\n",
       "      <td>0.56</td>\n",
       "    </tr>\n",
       "    <tr>\n",
       "      <th>User 5055</th>\n",
       "      <td>1.80</td>\n",
       "      <td>1.74</td>\n",
       "      <td>1.75</td>\n",
       "      <td>5.00</td>\n",
       "      <td>5.00</td>\n",
       "      <td>1.69</td>\n",
       "      <td>1.67</td>\n",
       "      <td>1.66</td>\n",
       "      <td>1.67</td>\n",
       "      <td>2.06</td>\n",
       "      <td>...</td>\n",
       "      <td>1.10</td>\n",
       "      <td>1.13</td>\n",
       "      <td>1.15</td>\n",
       "      <td>1.37</td>\n",
       "      <td>0.63</td>\n",
       "      <td>0.62</td>\n",
       "      <td>0.63</td>\n",
       "      <td>5.00</td>\n",
       "      <td>0.69</td>\n",
       "      <td>1.71</td>\n",
       "    </tr>\n",
       "  </tbody>\n",
       "</table>\n",
       "<p>5 rows × 24 columns</p>\n",
       "</div>"
      ],
      "text/plain": [
       "           churches  resorts  beaches  parks  theatres  museums  malls   zoo  \\\n",
       "user_id                                                                        \n",
       "User 3343      1.49     2.75     2.88   2.91      5.00     5.00   1.56  1.53   \n",
       "User 5248      0.86     0.89     1.66   1.63      1.63     1.63   5.00  1.67   \n",
       "User 3364      0.73     0.76     0.80   2.06      2.92     5.00   5.00  1.62   \n",
       "User 2874      0.58     5.00     1.33   1.32      1.34     1.36   5.00  5.00   \n",
       "User 5055      1.80     1.74     1.75   5.00      5.00     1.69   1.67  1.66   \n",
       "\n",
       "           restaurants  pubs_bars   ...     art_galleries  dance_clubs  \\\n",
       "user_id                             ...                                  \n",
       "User 3343         1.52       1.53   ...              0.77         0.78   \n",
       "User 5248         2.43       2.99   ...              5.00         0.66   \n",
       "User 3364         5.00       1.56   ...              1.83         0.75   \n",
       "User 2874         5.00       2.88   ...              0.79         0.78   \n",
       "User 5055         1.67       2.06   ...              1.10         1.13   \n",
       "\n",
       "           swimming_pools  gyms  bakeries  beauty_spas  cafes  view_points  \\\n",
       "user_id                                                                      \n",
       "User 3343            0.80  1.16      0.76         0.74   0.73         0.74   \n",
       "User 5248            0.65  0.64      0.74         0.68   0.86         0.85   \n",
       "User 3364            0.74  0.74      0.77         1.08   0.73         0.72   \n",
       "User 2874            0.80  0.81      1.02         0.57   0.52         0.51   \n",
       "User 5055            1.15  1.37      0.63         0.62   0.63         5.00   \n",
       "\n",
       "           monuments  gardens  \n",
       "user_id                        \n",
       "User 3343       0.77     0.80  \n",
       "User 5248       0.84     0.84  \n",
       "User 3364       0.71     0.71  \n",
       "User 2874       0.54     0.56  \n",
       "User 5055       0.69     1.71  \n",
       "\n",
       "[5 rows x 24 columns]"
      ]
     },
     "execution_count": 9,
     "metadata": {},
     "output_type": "execute_result"
    }
   ],
   "source": [
    "data_processed.index = data_processed.user_id\n",
    "data_processed.drop('user_id', axis = 1, inplace=True)\n",
    "data_processed.head()"
   ]
  },
  {
   "cell_type": "code",
   "execution_count": 10,
   "metadata": {
    "collapsed": true
   },
   "outputs": [],
   "source": [
    "X = data_processed.loc[:, ~data_processed.columns.isin(['juice_bars'])] \n",
    "y = data_processed.loc[:, 'juice_bars']\n",
    "feature_list = data_processed.drop('juice_bars', axis=1).columns\n"
   ]
  },
  {
   "cell_type": "code",
   "execution_count": 11,
   "metadata": {},
   "outputs": [
    {
     "data": {
      "text/plain": [
       "Index(['churches', 'resorts', 'beaches', 'parks', 'theatres', 'museums',\n",
       "       'malls', 'zoo', 'restaurants', 'pubs_bars', 'local_services',\n",
       "       'burger_pizza_shops', 'hotels_other_lodgings', 'art_galleries',\n",
       "       'dance_clubs', 'swimming_pools', 'gyms', 'bakeries', 'beauty_spas',\n",
       "       'cafes', 'view_points', 'monuments', 'gardens'],\n",
       "      dtype='object')"
      ]
     },
     "execution_count": 11,
     "metadata": {},
     "output_type": "execute_result"
    }
   ],
   "source": [
    "feature_list"
   ]
  },
  {
   "cell_type": "markdown",
   "metadata": {},
   "source": [
    "**Task:** Set your seed to 42 and split the data into **80%** training and **20%** test sets "
   ]
  },
  {
   "cell_type": "code",
   "execution_count": 12,
   "metadata": {},
   "outputs": [
    {
     "name": "stdout",
     "output_type": "stream",
     "text": [
      "X_train  (3699, 23)\n",
      "X_test  (925, 23)\n",
      "y_train  (3699,)\n",
      "y_test  (925,)\n"
     ]
    }
   ],
   "source": [
    "seed =42\n",
    "X_train, X_test, y_train, y_test =  train_test_split(X, y, test_size = 0.2, random_state =seed)\n",
    "\n",
    "print ('X_train ', X_train.shape)\n",
    "print ('X_test ', X_test.shape)\n",
    "print ('y_train ', y_train.shape)\n",
    "print ('y_test ', y_test.shape)"
   ]
  },
  {
   "cell_type": "code",
   "execution_count": 13,
   "metadata": {
    "collapsed": true
   },
   "outputs": [],
   "source": [
    "sc = StandardScaler()\n",
    "X_train = sc.fit_transform(X_train)\n",
    "X_test = sc.transform(X_test)"
   ]
  },
  {
   "cell_type": "markdown",
   "metadata": {},
   "source": [
    "**Task:** Set seed to 42 and fit a Random Forest with **10 trees/estimators** to the training set"
   ]
  },
  {
   "cell_type": "code",
   "execution_count": 14,
   "metadata": {
    "collapsed": true
   },
   "outputs": [],
   "source": [
    "regressor = RandomForestRegressor(n_estimators=20, random_state=seed)\n",
    "regressor.fit(X_train, y_train)\n",
    "y_pred = regressor.predict(X_test)"
   ]
  },
  {
   "cell_type": "code",
   "execution_count": 15,
   "metadata": {},
   "outputs": [
    {
     "name": "stdout",
     "output_type": "stream",
     "text": [
      "Mean Absolute Error: 0.364488108108\n",
      "Mean Squared Error: 0.636080844054\n",
      "Root Mean Squared Error: 0.797546766061\n"
     ]
    }
   ],
   "source": [
    "print('Mean Absolute Error:', metrics.mean_absolute_error(y_test, y_pred))\n",
    "print('Mean Squared Error:', metrics.mean_squared_error(y_test, y_pred))\n",
    "print('Root Mean Squared Error:', np.sqrt(metrics.mean_squared_error(y_test, y_pred)))"
   ]
  },
  {
   "cell_type": "markdown",
   "metadata": {},
   "source": [
    "Question 10: What R-Squared value did the model achieve on the test set?"
   ]
  },
  {
   "cell_type": "code",
   "execution_count": 16,
   "metadata": {},
   "outputs": [
    {
     "name": "stdout",
     "output_type": "stream",
     "text": [
      "R2 value on test:  0.754234045606\n"
     ]
    }
   ],
   "source": [
    "print ('R2 value on test: ',metrics.r2_score(y_test, y_pred))"
   ]
  },
  {
   "cell_type": "markdown",
   "metadata": {},
   "source": [
    "**Task:** Predict **juice_bars** ratings for the full dataset (training and test combined) and append predictions to the table"
   ]
  },
  {
   "cell_type": "code",
   "execution_count": 17,
   "metadata": {},
   "outputs": [
    {
     "name": "stdout",
     "output_type": "stream",
     "text": [
      "           juice_bars_actual  juice_bars_pred\n",
      "user_id                                      \n",
      "User 3819               1.51           1.5035\n",
      "User 2209               1.25           1.3115\n",
      "User 5141               1.33           1.3350\n",
      "User 1815               1.49           1.4780\n",
      "User 321                0.80           0.7995\n"
     ]
    }
   ],
   "source": [
    "y_test_df = pd.DataFrame({'juice_bars_actual': y_test.values}, index = y_test.index)\n",
    "y_test_df['juice_bars_pred'] = y_pred\n",
    "\n",
    "y_train_df = pd.DataFrame({'juice_bars_actual': y_train.values}, index = y_train.index)\n",
    "y_train_df['juice_bars_pred'] = regressor.predict(X_train)\n",
    "\n",
    "y = pd.concat([y_train_df, y_test_df], axis=0)\n",
    "\n",
    "print (y.head())"
   ]
  },
  {
   "cell_type": "code",
   "execution_count": 18,
   "metadata": {},
   "outputs": [
    {
     "name": "stdout",
     "output_type": "stream",
     "text": [
      "           churches  resorts  beaches  parks  theatres  museums  malls   zoo  \\\n",
      "user_id                                                                        \n",
      "User 3343      1.49     2.75     2.88   2.91      5.00     5.00   1.56  1.53   \n",
      "User 5248      0.86     0.89     1.66   1.63      1.63     1.63   5.00  1.67   \n",
      "User 3364      0.73     0.76     0.80   2.06      2.92     5.00   5.00  1.62   \n",
      "User 2874      0.58     5.00     1.33   1.32      1.34     1.36   5.00  5.00   \n",
      "User 5055      1.80     1.74     1.75   5.00      5.00     1.69   1.67  1.66   \n",
      "\n",
      "           restaurants  pubs_bars       ...         dance_clubs  \\\n",
      "user_id                                 ...                       \n",
      "User 3343         1.52       1.53       ...                0.78   \n",
      "User 5248         2.43       2.99       ...                0.66   \n",
      "User 3364         5.00       1.56       ...                0.75   \n",
      "User 2874         5.00       2.88       ...                0.78   \n",
      "User 5055         1.67       2.06       ...                1.13   \n",
      "\n",
      "           swimming_pools  gyms  bakeries  beauty_spas  cafes  view_points  \\\n",
      "user_id                                                                      \n",
      "User 3343            0.80  1.16      0.76         0.74   0.73         0.74   \n",
      "User 5248            0.65  0.64      0.74         0.68   0.86         0.85   \n",
      "User 3364            0.74  0.74      0.77         1.08   0.73         0.72   \n",
      "User 2874            0.80  0.81      1.02         0.57   0.52         0.51   \n",
      "User 5055            1.15  1.37      0.63         0.62   0.63         5.00   \n",
      "\n",
      "           monuments  gardens  juice_bars_pred  \n",
      "user_id                                         \n",
      "User 3343       0.77     0.80           0.7995  \n",
      "User 5248       0.84     0.84           5.0000  \n",
      "User 3364       0.71     0.71           1.8220  \n",
      "User 2874       0.54     0.56           2.6245  \n",
      "User 5055       0.69     1.71           1.0885  \n",
      "\n",
      "[5 rows x 25 columns]\n"
     ]
    }
   ],
   "source": [
    "data_final = data_processed.join(y['juice_bars_pred'])\n",
    "print (data_final.head())"
   ]
  },
  {
   "cell_type": "markdown",
   "metadata": {},
   "source": [
    "**Task:** Compute the squared residual for each user id, append to table and sort descending by squared residual "
   ]
  },
  {
   "cell_type": "code",
   "execution_count": 19,
   "metadata": {},
   "outputs": [
    {
     "name": "stdout",
     "output_type": "stream",
     "text": [
      "           churches  resorts  beaches  parks  theatres  museums  malls   zoo  \\\n",
      "user_id                                                                        \n",
      "User 1578      0.59     0.63     1.47   1.46      1.48     1.49   5.00  2.58   \n",
      "User 634       1.38     1.40     1.42   2.66      2.65     3.27   3.29  3.31   \n",
      "User 4288      0.00     1.44     1.42   1.42      1.45     1.49   2.71  2.70   \n",
      "User 2122      2.03     2.60     2.54   5.00      5.00     3.26   3.26  3.27   \n",
      "User 5356      2.08     2.28     1.68   1.27      1.24     1.23   1.24  1.41   \n",
      "\n",
      "           restaurants  pubs_bars    ...     swimming_pools  gyms  bakeries  \\\n",
      "user_id                              ...                                      \n",
      "User 1578         3.18       3.16    ...               0.76  5.00      0.99   \n",
      "User 634          5.00       5.00    ...               0.54  0.00      0.00   \n",
      "User 4288         3.32       3.32    ...               1.01  1.01      5.00   \n",
      "User 2122         2.85       2.86    ...               0.87  0.85      0.74   \n",
      "User 5356         1.64       1.30    ...               2.48  0.93      2.48   \n",
      "\n",
      "           beauty_spas  cafes  view_points  monuments  gardens  \\\n",
      "user_id                                                          \n",
      "User 1578         0.59   0.55         0.54       0.55     0.57   \n",
      "User 634          0.00   0.00         0.00       1.41     1.39   \n",
      "User 4288         0.00   0.00         0.00       0.00     0.00   \n",
      "User 2122         0.82   0.81         0.85       0.89     5.00   \n",
      "User 5356         5.00   2.50         5.00       2.46     2.45   \n",
      "\n",
      "           juice_bars_pred    sq_res  \n",
      "user_id                               \n",
      "User 1578           5.0000  17.64000  \n",
      "User 634            0.8395  17.30976  \n",
      "User 4288           5.0000  17.22250  \n",
      "User 2122           0.9295  16.56897  \n",
      "User 5356           5.0000  15.92010  \n",
      "\n",
      "[5 rows x 26 columns]\n"
     ]
    }
   ],
   "source": [
    "data_final['sq_res'] = (data_final.juice_bars_pred - data_final.juice_bars)**2\n",
    "data_final = data_final.sort_values('sq_res', ascending = False)\n",
    "\n",
    "print (data_final.head())"
   ]
  },
  {
   "cell_type": "markdown",
   "metadata": {},
   "source": [
    "Question 11: Which IDs are included in the **top 10** losses as measured by squared residual"
   ]
  },
  {
   "cell_type": "markdown",
   "metadata": {},
   "source": [
    "2122, 634, 2733"
   ]
  },
  {
   "cell_type": "markdown",
   "metadata": {},
   "source": [
    "**Task:** Extract the first tree/estimator from the Random Forest Model"
   ]
  },
  {
   "cell_type": "code",
   "execution_count": 20,
   "metadata": {
    "collapsed": true
   },
   "outputs": [],
   "source": [
    "from IPython import display\n",
    "tree = regressor.estimators_[0]"
   ]
  },
  {
   "cell_type": "markdown",
   "metadata": {},
   "source": [
    "**Task:** Plot the decision tree with **max depth of 3**"
   ]
  },
  {
   "cell_type": "code",
   "execution_count": 21,
   "metadata": {
    "collapsed": true
   },
   "outputs": [],
   "source": [
    "export_graphviz(tree, out_file = 'tree.dot', feature_names = feature_list, rounded = True, precision = 2, max_depth=3)\n",
    "\n",
    "(graph, ) = pydot.graph_from_dot_file('tree.dot')\n",
    "graph.write_png('tree.png')"
   ]
  },
  {
   "cell_type": "markdown",
   "metadata": {},
   "source": [
    "Question 12: Which variable does the tree split on **first**?"
   ]
  },
  {
   "cell_type": "markdown",
   "metadata": {},
   "source": [
    "hotels_other_lodgings"
   ]
  },
  {
   "cell_type": "markdown",
   "metadata": {},
   "source": [
    "**Task:** Create a sparse matrix with Location (e.g. resorts, beauty_spas, swimming_pools, etc.) on the rows and UserID on the columns with ratings as the values (fill any missing ratings for users with 0)"
   ]
  },
  {
   "cell_type": "code",
   "execution_count": 61,
   "metadata": {},
   "outputs": [],
   "source": [
    "import scipy\n",
    "\n",
    "data_processed.fillna(0, inplace=True)\n",
    "\n",
    "data_mt = scipy.sparse.csr_matrix(data_processed.values.T)"
   ]
  },
  {
   "cell_type": "code",
   "execution_count": 59,
   "metadata": {},
   "outputs": [],
   "source": [
    "#print(data_mt.shape)\n",
    "swimming_pool_index  = list(data_processed.columns).index('swimming_pools')"
   ]
  },
  {
   "cell_type": "code",
   "execution_count": 62,
   "metadata": {},
   "outputs": [],
   "source": [
    "data_processed_transposed = data_processed.transpose()"
   ]
  },
  {
   "cell_type": "markdown",
   "metadata": {},
   "source": [
    "**Task:** Apply a brute-force K-Nearest Neighbors algorithm to the matrix with a cosine metric "
   ]
  },
  {
   "cell_type": "code",
   "execution_count": 51,
   "metadata": {},
   "outputs": [
    {
     "data": {
      "text/plain": [
       "NearestNeighbors(algorithm='brute', leaf_size=30, metric='cosine',\n",
       "         metric_params=None, n_jobs=1, n_neighbors=5, p=2, radius=1.0)"
      ]
     },
     "execution_count": 51,
     "metadata": {},
     "output_type": "execute_result"
    }
   ],
   "source": [
    "from sklearn.neighbors import NearestNeighbors\n",
    "\n",
    "knn = NearestNeighbors(metric='cosine', algorithm='brute')\n",
    "knn.fit(data_mt)"
   ]
  },
  {
   "cell_type": "code",
   "execution_count": 52,
   "metadata": {},
   "outputs": [],
   "source": [
    "distances, indices = knn.kneighbors(data_processed_transposed.iloc[swimming_pool_index ,:].values.reshape(1,-1), \n",
    "                                    n_neighbors = 6)"
   ]
  },
  {
   "cell_type": "markdown",
   "metadata": {},
   "source": [
    "Question 13: Which categories are included in the top 5 nearest neighbors to **swimming_pools**?"
   ]
  },
  {
   "cell_type": "code",
   "execution_count": 68,
   "metadata": {},
   "outputs": [
    {
     "data": {
      "text/plain": [
       "Index(['gyms', 'dance_clubs', 'churches', 'gardens', 'burger_pizza_shops'], dtype='object')"
      ]
     },
     "execution_count": 68,
     "metadata": {},
     "output_type": "execute_result"
    }
   ],
   "source": [
    "data_processed.columns[indices.flatten()][1:]"
   ]
  }
 ],
 "metadata": {
  "kernelspec": {
   "display_name": "Python 3",
   "language": "python",
   "name": "python3"
  },
  "language_info": {
   "codemirror_mode": {
    "name": "ipython",
    "version": 3
   },
   "file_extension": ".py",
   "mimetype": "text/x-python",
   "name": "python",
   "nbconvert_exporter": "python",
   "pygments_lexer": "ipython3",
   "version": "3.7.4"
  }
 },
 "nbformat": 4,
 "nbformat_minor": 2
}
